{
  "nbformat": 4,
  "nbformat_minor": 0,
  "metadata": {
    "colab": {
      "provenance": [],
      "authorship_tag": "ABX9TyOkjCAoqimt+V/bC/jYIh+e",
      "include_colab_link": true
    },
    "kernelspec": {
      "name": "python3",
      "display_name": "Python 3"
    },
    "language_info": {
      "name": "python"
    }
  },
  "cells": [
    {
      "cell_type": "markdown",
      "metadata": {
        "id": "view-in-github",
        "colab_type": "text"
      },
      "source": [
        "<a href=\"https://colab.research.google.com/github/mpaulina24/Paulina/blob/main/Untitled0.ipynb\" target=\"_parent\"><img src=\"https://colab.research.google.com/assets/colab-badge.svg\" alt=\"Open In Colab\"/></a>"
      ]
    },
    {
      "cell_type": "markdown",
      "source": [
        "#Título 1\n",
        "## Título 2\n",
        "### Título 3\n",
        "\n"
      ],
      "metadata": {
        "id": "kqt1PjXfLKsG"
      }
    },
    {
      "cell_type": "code",
      "source": [],
      "metadata": {
        "id": "raTiocJtW1VK"
      },
      "execution_count": null,
      "outputs": []
    }
  ]
}